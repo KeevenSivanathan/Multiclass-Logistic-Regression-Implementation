{
 "cells": [
  {
   "cell_type": "code",
   "execution_count": 2,
   "metadata": {},
   "outputs": [],
   "source": [
    "import pandas as pd\n",
    "import numpy as np\n",
    "import sklearn as sk\n",
    "import sklearn.datasets\n",
    "import matplotlib.pyplot as plt\n",
    "from keras.datasets import mnist"
   ]
  },
  {
   "cell_type": "markdown",
   "metadata": {},
   "source": [
    "### Functions"
   ]
  },
  {
   "cell_type": "code",
   "execution_count": 3,
   "metadata": {},
   "outputs": [],
   "source": [
    "#Softmax Function\n",
    "def softmax(u):\n",
    "    return np.exp(u) / np.sum(np.exp(u),axis=0)"
   ]
  },
  {
   "cell_type": "code",
   "execution_count": 4,
   "metadata": {},
   "outputs": [],
   "source": [
    "#Cross-Entropy Loss Function \n",
    "def multiclass_cross_entropy(p,q):\n",
    "    return -np.vdot(p,np.log(q))"
   ]
  },
  {
   "cell_type": "code",
   "execution_count": 5,
   "metadata": {},
   "outputs": [],
   "source": [
    "#Objective Function\n",
    "def L(beta,X,y):\n",
    "    N = X.shape[0]\n",
    "    s = 0\n",
    "    for i in range(N):\n",
    "        xiHat = X[i]\n",
    "        yi = y[i]\n",
    "        \n",
    "        #Prediction Function\n",
    "        u = beta @ xiHat\n",
    "        yi_pred = softmax(u)\n",
    "        \n",
    "        #Calculating the loss\n",
    "        s += multiclass_cross_entropy(yi,yi_pred)\n",
    "    \n",
    "    #Returns the average loss \n",
    "    return s / N "
   ]
  },
  {
   "cell_type": "code",
   "execution_count": 6,
   "metadata": {},
   "outputs": [],
   "source": [
    "#Function to perform Multiclass Logistic Regression using Stochastic Gradient Descent\n",
    "def multiLogReg_SGD(X,y,batch,a_val,ep): #(Training, Labels, Batch_Size, Alpha, Epoch)\n",
    "    num_epochs = ep\n",
    "    alpha = a_val\n",
    "    N, d = X.shape\n",
    "    X = np.insert(X,0,1,axis=1) #Inserting Leading 1's to create augmented matrix\n",
    "    K = y.shape[1] #Setting K to the number of classes in the test set\n",
    "    \n",
    "    batch_size = batch #Initialising batch_size \n",
    "    \n",
    "    beta = np.zeros((K,d+1)) #Initialising beta vector\n",
    "    L_vals = []\n",
    "    \n",
    "    for epoch in range(num_epochs):\n",
    "        L_val = L(beta,X,y) #Calculate the loss for every epoch\n",
    "        L_vals.append(L_val) #Add the losses into L_vals\n",
    "        \n",
    "        print('| Epoch : ' + str(epoch) + ' | Loss : ' + str(L_val))\n",
    "        \n",
    "        prm = np.random.permutation(N) #A random permutation of size N \n",
    "        \n",
    "        batch_idx = 0\n",
    "        for start_idx in range(0,N,batch_size): #Starting from 0, to length N in steps of the batch size\n",
    "            \n",
    "            stop_idx = start_idx + batch_size \n",
    "            stop_idx = min(stop_idx, N)\n",
    "            \n",
    "            num_examples_in_batch = stop_idx - start_idx \n",
    "        \n",
    "            for i in prm[start_idx:stop_idx]:\n",
    "                xiHat = X[i]\n",
    "                yi = y[i]\n",
    "                u = beta @ xiHat\n",
    "                \n",
    "                #Prediction Function\n",
    "                yi_pred = softmax(u)\n",
    "                \n",
    "                #Calculating gradient \n",
    "                grad = np.outer(yi_pred - yi, xiHat)\n",
    "\n",
    "            #Divide gradient by number of examples in batch \n",
    "            grad = grad / num_examples_in_batch\n",
    "            beta = beta - alpha*grad \n",
    "            \n",
    "            batch_idx += 1\n",
    "            \n",
    "    \n",
    "    return beta, L_vals\n",
    "    "
   ]
  },
  {
   "cell_type": "code",
   "execution_count": 7,
   "metadata": {},
   "outputs": [],
   "source": [
    "#Function to predict labels\n",
    "def predictLabels(beta,X):\n",
    "    X = np.insert(X,0,1,axis = 1)\n",
    "    N = X.shape[0]\n",
    "    \n",
    "    predictions = []\n",
    "    \n",
    "    for i in range(N):\n",
    "        xiHat = X[i]\n",
    "        yi_pred = softmax(beta @ xiHat)\n",
    "        \n",
    "        k = np.argmax(yi_pred)\n",
    "        predictions.append(k)\n",
    "        \n",
    "    return predictions"
   ]
  },
  {
   "cell_type": "code",
   "execution_count": 8,
   "metadata": {},
   "outputs": [],
   "source": [
    "#Function to calculate accuracy\n",
    "def accuracy_score(predicted_labels,truth_labels):\n",
    "    \n",
    "    yi_pred = np.array(predicted_labels)\n",
    "    truth = np.array(truth_labels)\n",
    "    num_correct = sum(p == t for p, t in zip(yi_pred, truth)) \n",
    "    accuracy = num_correct/truth_labels.shape[0]\n",
    "    \n",
    "    return accuracy"
   ]
  },
  {
   "cell_type": "markdown",
   "metadata": {},
   "source": [
    "### Implementation"
   ]
  },
  {
   "cell_type": "code",
   "execution_count": 9,
   "metadata": {},
   "outputs": [],
   "source": [
    "#Loading Dataset\n",
    "(X_train, y_train), (X_test, y_test) = mnist.load_data()"
   ]
  },
  {
   "cell_type": "code",
   "execution_count": 10,
   "metadata": {},
   "outputs": [],
   "source": [
    "X_train = X_train/255\n",
    "X_test = X_test/255"
   ]
  },
  {
   "cell_type": "code",
   "execution_count": 11,
   "metadata": {},
   "outputs": [],
   "source": [
    "#Reshaping the training set \n",
    "N_train, numRows, numCols = X_train.shape\n",
    "X_train = np.reshape(X_train,(N_train,numRows*numCols))"
   ]
  },
  {
   "cell_type": "code",
   "execution_count": 12,
   "metadata": {},
   "outputs": [],
   "source": [
    "#One-Hot Encoding\n",
    "y_train = pd.get_dummies(y_train).values"
   ]
  },
  {
   "cell_type": "code",
   "execution_count": 13,
   "metadata": {},
   "outputs": [
    {
     "name": "stdout",
     "output_type": "stream",
     "text": [
      "| Epoch : 0 | Loss : 2.3025850929954172\n",
      "| Epoch : 1 | Loss : 0.748446351061442\n",
      "| Epoch : 2 | Loss : 0.5770842614276999\n",
      "| Epoch : 3 | Loss : 0.5068802390735029\n",
      "| Epoch : 4 | Loss : 0.4680179154177301\n",
      "| Epoch : 5 | Loss : 0.4477619800560675\n",
      "| Epoch : 6 | Loss : 0.4268718229505497\n",
      "| Epoch : 7 | Loss : 0.4105482153199707\n",
      "| Epoch : 8 | Loss : 0.3989619470144367\n",
      "| Epoch : 9 | Loss : 0.3889649364725269\n",
      "| Epoch : 10 | Loss : 0.3825857600433697\n",
      "| Epoch : 11 | Loss : 0.3738392933397145\n",
      "| Epoch : 12 | Loss : 0.36798603137009755\n",
      "| Epoch : 13 | Loss : 0.36494024286753096\n",
      "| Epoch : 14 | Loss : 0.3603870388869154\n",
      "| Epoch : 15 | Loss : 0.3545931746925904\n",
      "| Epoch : 16 | Loss : 0.349845590333295\n",
      "| Epoch : 17 | Loss : 0.34688644769928706\n",
      "| Epoch : 18 | Loss : 0.3445068930647798\n",
      "| Epoch : 19 | Loss : 0.3414491412232571\n",
      "| Epoch : 20 | Loss : 0.33899867258123995\n",
      "| Epoch : 21 | Loss : 0.33626403260170645\n",
      "| Epoch : 22 | Loss : 0.3341153365918913\n",
      "| Epoch : 23 | Loss : 0.3327623240552333\n",
      "| Epoch : 24 | Loss : 0.33028249276861354\n",
      "| Epoch : 25 | Loss : 0.3288847583191785\n",
      "| Epoch : 26 | Loss : 0.32637352242215845\n",
      "| Epoch : 27 | Loss : 0.32422765586133867\n",
      "| Epoch : 28 | Loss : 0.3227890197181865\n",
      "| Epoch : 29 | Loss : 0.3218317542806082\n",
      "| Epoch : 30 | Loss : 0.31962843277556646\n",
      "| Epoch : 31 | Loss : 0.31847000350050575\n",
      "| Epoch : 32 | Loss : 0.31827319931671244\n",
      "| Epoch : 33 | Loss : 0.3155668408819454\n",
      "| Epoch : 34 | Loss : 0.3144931676207298\n",
      "| Epoch : 35 | Loss : 0.31460866768460266\n",
      "| Epoch : 36 | Loss : 0.3143763761117714\n",
      "| Epoch : 37 | Loss : 0.31112949359557407\n",
      "| Epoch : 38 | Loss : 0.31124125055927954\n",
      "| Epoch : 39 | Loss : 0.30995755112408224\n",
      "| Epoch : 40 | Loss : 0.30950252764761016\n",
      "| Epoch : 41 | Loss : 0.3090755257854991\n",
      "| Epoch : 42 | Loss : 0.3079480185108455\n",
      "| Epoch : 43 | Loss : 0.30613207607822696\n",
      "| Epoch : 44 | Loss : 0.3055459232518988\n",
      "| Epoch : 45 | Loss : 0.3050241368051839\n",
      "| Epoch : 46 | Loss : 0.3039046848127125\n",
      "| Epoch : 47 | Loss : 0.30314509804543455\n",
      "| Epoch : 48 | Loss : 0.30236056169617\n",
      "| Epoch : 49 | Loss : 0.30212095173336584\n",
      "| Epoch : 50 | Loss : 0.3020322784285576\n",
      "| Epoch : 51 | Loss : 0.3011112373788187\n",
      "| Epoch : 52 | Loss : 0.3004696899913264\n",
      "| Epoch : 53 | Loss : 0.3019417781997617\n",
      "| Epoch : 54 | Loss : 0.29890298136307564\n",
      "| Epoch : 55 | Loss : 0.2983911722041258\n",
      "| Epoch : 56 | Loss : 0.2979453079006496\n",
      "| Epoch : 57 | Loss : 0.2966423524487683\n",
      "| Epoch : 58 | Loss : 0.2965155298959036\n",
      "| Epoch : 59 | Loss : 0.2959752742208621\n",
      "| Epoch : 60 | Loss : 0.29527176867966287\n",
      "| Epoch : 61 | Loss : 0.29555235245812195\n",
      "| Epoch : 62 | Loss : 0.29414352107586167\n",
      "| Epoch : 63 | Loss : 0.2935791041361793\n",
      "| Epoch : 64 | Loss : 0.2940042870393872\n",
      "| Epoch : 65 | Loss : 0.29322771983323387\n",
      "| Epoch : 66 | Loss : 0.29317605265346464\n",
      "| Epoch : 67 | Loss : 0.29133663341466676\n",
      "| Epoch : 68 | Loss : 0.2920375960716395\n",
      "| Epoch : 69 | Loss : 0.2906106347497859\n",
      "| Epoch : 70 | Loss : 0.29099764260036853\n",
      "| Epoch : 71 | Loss : 0.2906786243099646\n",
      "| Epoch : 72 | Loss : 0.2898644422048407\n",
      "| Epoch : 73 | Loss : 0.2899224448317508\n",
      "| Epoch : 74 | Loss : 0.29092900474175737\n",
      "| Epoch : 75 | Loss : 0.28870900396068805\n",
      "| Epoch : 76 | Loss : 0.28912631898015534\n",
      "| Epoch : 77 | Loss : 0.28887033574653\n",
      "| Epoch : 78 | Loss : 0.28777723033139146\n",
      "| Epoch : 79 | Loss : 0.28720758763218324\n",
      "| Epoch : 80 | Loss : 0.28724931856042396\n",
      "| Epoch : 81 | Loss : 0.2866079028723188\n",
      "| Epoch : 82 | Loss : 0.2871411904288565\n",
      "| Epoch : 83 | Loss : 0.2862798213149004\n",
      "| Epoch : 84 | Loss : 0.28584011336109616\n",
      "| Epoch : 85 | Loss : 0.2864877166312398\n",
      "| Epoch : 86 | Loss : 0.28568445708021073\n",
      "| Epoch : 87 | Loss : 0.2847684383915601\n",
      "| Epoch : 88 | Loss : 0.28493974806661215\n",
      "| Epoch : 89 | Loss : 0.28465997749932653\n",
      "| Epoch : 90 | Loss : 0.2830704413236737\n",
      "| Epoch : 91 | Loss : 0.28439500958799563\n",
      "| Epoch : 92 | Loss : 0.28304745732109116\n",
      "| Epoch : 93 | Loss : 0.2829348617741168\n",
      "| Epoch : 94 | Loss : 0.2828502959395226\n",
      "| Epoch : 95 | Loss : 0.28280190859191356\n",
      "| Epoch : 96 | Loss : 0.28255415524288824\n",
      "| Epoch : 97 | Loss : 0.28253529178801423\n",
      "| Epoch : 98 | Loss : 0.2813549419058993\n",
      "| Epoch : 99 | Loss : 0.2811454164343458\n"
     ]
    }
   ],
   "source": [
    "beta, L_vals = multiLogReg_SGD(X_train,y_train,10,0.01,100)"
   ]
  },
  {
   "cell_type": "code",
   "execution_count": 43,
   "metadata": {},
   "outputs": [
    {
     "data": {
      "text/plain": [
       "Text(0, 0.5, 'Objective Function Value')"
      ]
     },
     "execution_count": 43,
     "metadata": {},
     "output_type": "execute_result"
    },
    {
     "data": {
      "image/png": "[encoded data removed]",
      "text/plain": [
       "<Figure size 432x288 with 1 Axes>"
      ]
     },
     "metadata": {
      "needs_background": "light"
     },
     "output_type": "display_data"
    }
   ],
   "source": [
    "plt.plot(L_vals)\n",
    "plt.xlabel('Number of Iterations')\n",
    "plt.ylabel('Objective Function Value')"
   ]
  },
  {
   "cell_type": "code",
   "execution_count": 15,
   "metadata": {},
   "outputs": [],
   "source": [
    "#Reshaping the test array\n",
    "N_test = X_test.shape[0]\n",
    "X_test = np.reshape(X_test,(N_test,numRows*numCols))"
   ]
  },
  {
   "cell_type": "code",
   "execution_count": 16,
   "metadata": {},
   "outputs": [],
   "source": [
    "#Get predictions for X_test\n",
    "predictions = predictLabels(beta,X_test)"
   ]
  },
  {
   "cell_type": "code",
   "execution_count": 17,
   "metadata": {},
   "outputs": [
    {
     "data": {
      "text/plain": [
       "[7, 2, 1, 0, 4, 1, 4, 9, 6, 9, 0, 6, 9, 0, 1, 5, 9, 7, 3, 4]"
      ]
     },
     "execution_count": 17,
     "metadata": {},
     "output_type": "execute_result"
    }
   ],
   "source": [
    "#First 20 rows of the predictions\n",
    "predictions[0:20]"
   ]
  },
  {
   "cell_type": "code",
   "execution_count": 18,
   "metadata": {},
   "outputs": [
    {
     "data": {
      "text/plain": [
       "array([7, 2, 1, 0, 4, 1, 4, 9, 5, 9, 0, 6, 9, 0, 1, 5, 9, 7, 3, 4],\n",
       "      dtype=uint8)"
      ]
     },
     "execution_count": 18,
     "metadata": {},
     "output_type": "execute_result"
    }
   ],
   "source": [
    "#First 20 rows of the truth\n",
    "y_test[0:20]"
   ]
  },
  {
   "cell_type": "code",
   "execution_count": 23,
   "metadata": {},
   "outputs": [
    {
     "data": {
      "text/plain": [
       "0.9215"
      ]
     },
     "execution_count": 23,
     "metadata": {},
     "output_type": "execute_result"
    }
   ],
   "source": [
    "#Accuracy : \n",
    "accuracy_score(predictions,y_test)"
   ]
  }
 ],
 "metadata": {
  "kernelspec": {
   "display_name": "Python 3",
   "language": "python",
   "name": "python3"
  },
  "language_info": {
   "codemirror_mode": {
    "name": "ipython",
    "version": 3
   },
   "file_extension": ".py",
   "mimetype": "text/x-python",
   "name": "python",
   "nbconvert_exporter": "python",
   "pygments_lexer": "ipython3",
   "version": "3.7.6"
  }
 },
 "nbformat": 4,
 "nbformat_minor": 4
}
