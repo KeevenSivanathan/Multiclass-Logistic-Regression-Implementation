{
 "cells": [
  {
   "cell_type": "code",
   "execution_count": 1,
   "metadata": {},
   "outputs": [],
   "source": [
    "import pandas as pd\n",
    "import numpy as np\n",
    "import sklearn as sk\n",
    "import sklearn.datasets\n",
    "from sklearn.model_selection import train_test_split \n",
    "import matplotlib.pyplot as plt"
   ]
  },
  {
   "cell_type": "markdown",
   "metadata": {},
   "source": [
    "### Functions"
   ]
  },
  {
   "cell_type": "code",
   "execution_count": 2,
   "metadata": {},
   "outputs": [],
   "source": [
    "#Softmax Function\n",
    "def softmax(u):\n",
    "    return np.exp(u) / np.sum(np.exp(u),axis=0)"
   ]
  },
  {
   "cell_type": "code",
   "execution_count": 3,
   "metadata": {},
   "outputs": [],
   "source": [
    "#Cross-Entropy Loss Function \n",
    "def multiclass_cross_entropy(p,q):\n",
    "    return -np.vdot(p,np.log(q))"
   ]
  },
  {
   "cell_type": "code",
   "execution_count": 4,
   "metadata": {},
   "outputs": [],
   "source": [
    "#Objective Function\n",
    "def L(beta,X,y):\n",
    "    N = X.shape[0]\n",
    "    s = 0\n",
    "    for i in range(N):\n",
    "        xiHat = X[i]\n",
    "        yi = y[i]\n",
    "        \n",
    "        #Prediction Function\n",
    "        u = beta @ xiHat\n",
    "        yi_pred = softmax(u)\n",
    "        \n",
    "        #Calculating the loss\n",
    "        s += multiclass_cross_entropy(yi,yi_pred)\n",
    "    \n",
    "    #Returns the average loss \n",
    "    return s / N "
   ]
  },
  {
   "cell_type": "code",
   "execution_count": 5,
   "metadata": {},
   "outputs": [],
   "source": [
    "#Calculate Gradient\n",
    "def grad_L(beta,X,y):\n",
    "    N = X.shape[0]\n",
    "    grad = 0\n",
    "    for i in range(N):\n",
    "        xiHat = X[i]\n",
    "        yi = y[i]\n",
    "        u = beta @ xiHat \n",
    "        yi_pred = softmax(u)\n",
    "        \n",
    "        grad = grad + np.outer((softmax(u) - yi), xiHat)\n",
    "        \n",
    "    return grad / N "
   ]
  },
  {
   "cell_type": "code",
   "execution_count": 6,
   "metadata": {},
   "outputs": [],
   "source": [
    "#Logistic Regression using Gradient Descent\n",
    "def MultiLogReg_GradientDescent(X,y):\n",
    "    num_iters = 100\n",
    "    alpha = 3\n",
    "    beta = np.zeros((K,d+1))\n",
    "    \n",
    "    L_vals = np.zeros(num_iters)\n",
    "    for t in range(num_iters):\n",
    "        L_vals[t] = L(beta,X,y)\n",
    "        \n",
    "        if t % 20:\n",
    "            print('Loss : '+ str(L_vals[t]))\n",
    "            \n",
    "        beta = beta - alpha * grad_L(beta,X,y)\n",
    "    \n",
    "    return beta, L_vals"
   ]
  },
  {
   "cell_type": "code",
   "execution_count": 7,
   "metadata": {},
   "outputs": [],
   "source": [
    "#Function to predict labels\n",
    "def make_predictions(beta,X):\n",
    "    N = X.shape[0]\n",
    "    \n",
    "    predictions = []\n",
    "    \n",
    "    for i in range(N):\n",
    "        xiHat = X[i]\n",
    "        yi_pred = softmax(beta @ xiHat)\n",
    "        \n",
    "        k = np.argmax(yi_pred)\n",
    "        predictions.append(k)\n",
    "        \n",
    "    return np.array(predictions)"
   ]
  },
  {
   "cell_type": "markdown",
   "metadata": {},
   "source": [
    "### Implementation"
   ]
  },
  {
   "cell_type": "code",
   "execution_count": 60,
   "metadata": {},
   "outputs": [],
   "source": [
    "#Loading in the dataset\n",
    "dataset = sk.datasets.load_iris()\n",
    "X = dataset.data\n",
    "y = dataset.target\n",
    "\n",
    "N = len(y)\n",
    "K = len(np.unique(y))\n",
    "\n",
    "#One-hot Encoding \n",
    "y_onehot = pd.get_dummies(y).values"
   ]
  },
  {
   "cell_type": "code",
   "execution_count": 61,
   "metadata": {},
   "outputs": [],
   "source": [
    "#Split data into train and test \n",
    "X_train, X_test, y_train, y_test = train_test_split(X,y_onehot,test_size=0.2)"
   ]
  },
  {
   "cell_type": "code",
   "execution_count": 62,
   "metadata": {},
   "outputs": [],
   "source": [
    "N_train = X_train.shape[0] #Training Set : Number of rows in X_train\n",
    "N_val = X_train.shape[0] #Test Set : Number of rows in X_train \n",
    "d = X_train.shape[1] #Number of columns in X_train "
   ]
  },
  {
   "cell_type": "code",
   "execution_count": 63,
   "metadata": {},
   "outputs": [],
   "source": [
    "#Normalize Data\n",
    "X_train = (X_train - np.mean(X_train,axis=0)) / np.std(X_train,axis=0)\n",
    "X_test = (X_test - np.mean(X_train,axis=0)) / np.std(X_train,axis=0) "
   ]
  },
  {
   "cell_type": "code",
   "execution_count": 64,
   "metadata": {},
   "outputs": [],
   "source": [
    "#Insert Leading 1's to create the augmented matrix \n",
    "X_train = np.insert(X_train,0,1,axis=1)\n",
    "X_test = np.insert(X_test,0,1,axis=1)"
   ]
  },
  {
   "cell_type": "code",
   "execution_count": 65,
   "metadata": {},
   "outputs": [
    {
     "name": "stdout",
     "output_type": "stream",
     "text": [
      "Loss : 0.39735440859663773\n",
      "Loss : 0.3221644931264724\n",
      "Loss : 0.2910598870175069\n",
      "Loss : 0.26662194602135764\n",
      "Loss : 0.24865598659142016\n",
      "Loss : 0.23402365719008428\n",
      "Loss : 0.22182719722857414\n",
      "Loss : 0.21147093121728683\n",
      "Loss : 0.20256066834731373\n",
      "Loss : 0.19479928676361932\n",
      "Loss : 0.1879580520801007\n",
      "Loss : 0.1818612080975299\n",
      "Loss : 0.17637456868092707\n",
      "Loss : 0.17139575063662177\n",
      "Loss : 0.1668460960967712\n",
      "Loss : 0.1626643688734215\n",
      "Loss : 0.15880207479050074\n",
      "Loss : 0.15522009694760522\n",
      "Loss : 0.15188631520692666\n",
      "Loss : 0.14586025079158157\n",
      "Loss : 0.1431258693883887\n",
      "Loss : 0.14055399166215324\n",
      "Loss : 0.1381299793497625\n",
      "Loss : 0.1358409819393913\n",
      "Loss : 0.13367565156834785\n",
      "Loss : 0.13162391611585197\n",
      "Loss : 0.12967679578132527\n",
      "Loss : 0.12782625281304802\n",
      "Loss : 0.12606506697647538\n",
      "Loss : 0.124386731338513\n",
      "Loss : 0.12278536431919611\n",
      "Loss : 0.12125563493265203\n",
      "Loss : 0.1197926988376828\n",
      "Loss : 0.11839214333068973\n",
      "Loss : 0.11704993979638037\n",
      "Loss : 0.11576240242234302\n",
      "Loss : 0.11452615220762699\n",
      "Loss : 0.11333808547052313\n",
      "Loss : 0.11109530169900278\n",
      "Loss : 0.11003552108095131\n",
      "Loss : 0.10901375620540861\n",
      "Loss : 0.10802792475815508\n",
      "Loss : 0.10707609518198846\n",
      "Loss : 0.10615647322913602\n",
      "Loss : 0.10526738993318767\n",
      "Loss : 0.10440729082768682\n",
      "Loss : 0.10357472626239739\n",
      "Loss : 0.10276834268844035\n",
      "Loss : 0.10198687480061201\n",
      "Loss : 0.10122913843976712\n",
      "Loss : 0.1004940241705954\n",
      "Loss : 0.099780491460787\n",
      "Loss : 0.09908756339674615\n",
      "Loss : 0.09841432187891243\n",
      "Loss : 0.09775990324657521\n",
      "Loss : 0.09712349428798185\n",
      "Loss : 0.09650432859667638\n",
      "Loss : 0.09531487570540698\n",
      "Loss : 0.09474326110829161\n",
      "Loss : 0.09418622961875088\n",
      "Loss : 0.0936432041039084\n",
      "Loss : 0.09311363795547528\n",
      "Loss : 0.0925970130888862\n",
      "Loss : 0.09209283809797068\n",
      "Loss : 0.09160064655122804\n",
      "Loss : 0.09111999541718402\n",
      "Loss : 0.09065046360756007\n",
      "Loss : 0.09019165062809296\n",
      "Loss : 0.08974317532783613\n",
      "Loss : 0.08930467473865313\n",
      "Loss : 0.08887580299740445\n",
      "Loss : 0.08845623034403044\n",
      "Loss : 0.0880456421893665\n",
      "Loss : 0.08764373824709108\n",
      "Loss : 0.08725023172471502\n",
      "Loss : 0.08686484856897886\n",
      "Loss : 0.08611741566035351\n",
      "Loss : 0.08575487538546016\n",
      "Loss : 0.0853994762422453\n",
      "Loss : 0.08505099818294566\n",
      "Loss : 0.08470923030147602\n",
      "Loss : 0.08437397035984823\n",
      "Loss : 0.08404502434380866\n",
      "Loss : 0.08372220604561037\n",
      "Loss : 0.08340533667200496\n",
      "Loss : 0.08309424447569194\n",
      "Loss : 0.08278876440860275\n",
      "Loss : 0.08248873779552285\n",
      "Loss : 0.08219401202667395\n",
      "Loss : 0.08190444026797962\n",
      "Loss : 0.08161988118784026\n",
      "Loss : 0.08134019869932711\n",
      "Loss : 0.08106526171678946\n",
      "Loss : 0.0807949439259412\n",
      "Loss : 0.08052912356656462\n"
     ]
    }
   ],
   "source": [
    "beta, L_vals = MultiLogReg_GradientDescent(X_train,y_train)"
   ]
  },
  {
   "cell_type": "code",
   "execution_count": 88,
   "metadata": {},
   "outputs": [
    {
     "data": {
      "text/plain": [
       "Text(0, 0.5, 'Objective Function Value')"
      ]
     },
     "execution_count": 88,
     "metadata": {},
     "output_type": "execute_result"
    },
    {
     "data": {
      "image/png": "[encoded data removed]",
      "text/plain": [
       "<Figure size 432x288 with 1 Axes>"
      ]
     },
     "metadata": {
      "needs_background": "light"
     },
     "output_type": "display_data"
    }
   ],
   "source": [
    "plt.plot(L_vals)\n",
    "plt.xlabel('Number of Iterations')\n",
    "plt.ylabel('Objective Function Value')"
   ]
  },
  {
   "cell_type": "code",
   "execution_count": 67,
   "metadata": {
    "scrolled": true
   },
   "outputs": [],
   "source": [
    "y_pred = make_predictions(beta,X_test)"
   ]
  },
  {
   "cell_type": "code",
   "execution_count": 75,
   "metadata": {},
   "outputs": [
    {
     "data": {
      "text/plain": [
       "array([1, 2, 2, 1, 2, 2, 2, 1, 2, 2, 1, 2, 2, 2, 2, 1, 2, 2, 1, 1, 2, 1,\n",
       "       2, 2, 2, 2, 2, 2, 2, 2])"
      ]
     },
     "execution_count": 75,
     "metadata": {},
     "output_type": "execute_result"
    }
   ],
   "source": [
    "y_pred"
   ]
  },
  {
   "cell_type": "code",
   "execution_count": 87,
   "metadata": {},
   "outputs": [
    {
     "data": {
      "text/plain": [
       "array([[1, 0, 0],\n",
       "       [0, 0, 1],\n",
       "       [0, 1, 0],\n",
       "       [1, 0, 0],\n",
       "       [0, 0, 1],\n",
       "       [0, 1, 0],\n",
       "       [0, 0, 1],\n",
       "       [1, 0, 0],\n",
       "       [0, 0, 1],\n",
       "       [0, 0, 1],\n",
       "       [1, 0, 0],\n",
       "       [0, 1, 0],\n",
       "       [0, 1, 0],\n",
       "       [0, 1, 0],\n",
       "       [0, 1, 0],\n",
       "       [1, 0, 0],\n",
       "       [0, 1, 0],\n",
       "       [0, 0, 1],\n",
       "       [1, 0, 0],\n",
       "       [1, 0, 0],\n",
       "       [0, 0, 1],\n",
       "       [1, 0, 0],\n",
       "       [0, 1, 0],\n",
       "       [0, 0, 1],\n",
       "       [0, 0, 1],\n",
       "       [0, 1, 0],\n",
       "       [0, 1, 0],\n",
       "       [0, 1, 0],\n",
       "       [0, 0, 1],\n",
       "       [0, 1, 0]], dtype=uint8)"
      ]
     },
     "execution_count": 87,
     "metadata": {},
     "output_type": "execute_result"
    }
   ],
   "source": [
    "y_test"
   ]
  },
  {
   "cell_type": "markdown",
   "metadata": {},
   "source": [
    "There are 8 labels for class 0 in the truth labels, but the prediction function did not even predict one label of classs 0. \n",
    "The prediction function labels most classes as belonging to class 2. For the most part, it predicts all the labels belonging to this class correctly except for 1 occasion. While only predicting one correct label for class 1. "
   ]
  }
 ],
 "metadata": {
  "kernelspec": {
   "display_name": "Python 3",
   "language": "python",
   "name": "python3"
  },
  "language_info": {
   "codemirror_mode": {
    "name": "ipython",
    "version": 3
   },
   "file_extension": ".py",
   "mimetype": "text/x-python",
   "name": "python",
   "nbconvert_exporter": "python",
   "pygments_lexer": "ipython3",
   "version": "3.7.6"
  }
 },
 "nbformat": 4,
 "nbformat_minor": 4
}
