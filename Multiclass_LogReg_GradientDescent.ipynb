{
 "cells": [
  {
   "cell_type": "code",
   "execution_count": 123,
   "metadata": {},
   "outputs": [],
   "source": [
    "import pandas as pd\n",
    "import numpy as np\n",
    "import sklearn as sk\n",
    "import sklearn.datasets\n",
    "from sklearn.model_selection import train_test_split \n",
    "import matplotlib.pyplot as plt"
   ]
  },
  {
   "cell_type": "code",
   "execution_count": 129,
   "metadata": {},
   "outputs": [],
   "source": [
    "#Softmax Function\n",
    "def softmax(u):\n",
    "    return np.exp(u) / np.sum(np.exp(u),axis=0)"
   ]
  },
  {
   "cell_type": "code",
   "execution_count": 130,
   "metadata": {},
   "outputs": [],
   "source": [
    "#Cross-Entropy Loss Function \n",
    "def multiclass_cross_entropy(p,q):\n",
    "    return -np.vdot(p,np.log(q))"
   ]
  },
  {
   "cell_type": "code",
   "execution_count": 131,
   "metadata": {},
   "outputs": [],
   "source": [
    "#Objective Function\n",
    "def L(beta,X,y):\n",
    "    N = X.shape[0]\n",
    "    s = 0\n",
    "    for i in range(N):\n",
    "        xiHat = X[i]\n",
    "        yi = y[i]\n",
    "        \n",
    "        #Prediction Function\n",
    "        u = beta @ xiHat\n",
    "        yi_pred = softmax(u)\n",
    "        \n",
    "#         Calculating the loss\n",
    "        s += multiclass_cross_entropy(yi,yi_pred)\n",
    "    \n",
    "    #Returns the average loss \n",
    "    return s / N "
   ]
  },
  {
   "cell_type": "code",
   "execution_count": 132,
   "metadata": {},
   "outputs": [],
   "source": [
    "#Calculate Gradient\n",
    "def grad_L(beta,X,y):\n",
    "    N = X.shape[0]\n",
    "    grad = 0\n",
    "    for i in range(N):\n",
    "        xiHat = X[i]\n",
    "        yi = y[i]\n",
    "        u = beta @ xiHat \n",
    "        yi_pred = softmax(u)\n",
    "        \n",
    "        grad = grad + np.outer((softmax(u) - yi), xiHat)\n",
    "        \n",
    "    return grad / N "
   ]
  },
  {
   "cell_type": "code",
   "execution_count": 174,
   "metadata": {},
   "outputs": [],
   "source": [
    "#Logistic Regression using Gradient Descent\n",
    "def MultiLogReg_GradientDescent(X,y):\n",
    "    num_iters = 100\n",
    "    alpha = 3\n",
    "    beta = np.zeros((K,d+1))\n",
    "    \n",
    "    L_vals = np.zeros(num_iters)\n",
    "    for t in range(num_iters):\n",
    "        L_vals[t] = L(beta,X,y)\n",
    "        \n",
    "        if t % 20:\n",
    "            print('Loss : '+ str(L_vals[t]))\n",
    "            \n",
    "        beta = beta - alpha * grad_L(beta,X,y)\n",
    "    \n",
    "    return beta, L_vals"
   ]
  },
  {
   "cell_type": "code",
   "execution_count": 175,
   "metadata": {},
   "outputs": [],
   "source": [
    "#Function to predict labels\n",
    "def make_predictions(beta,X):\n",
    "    N = X.shape[0]\n",
    "    \n",
    "    predictions = []\n",
    "    \n",
    "    for i in range(N):\n",
    "        xiHat = X[i]\n",
    "        yi_pred = softmax(beta @ xiHat)\n",
    "        \n",
    "        k = np.argmax(yi_pred)\n",
    "        predictions.append(k)\n",
    "        \n",
    "    return np.array(predictions)"
   ]
  },
  {
   "cell_type": "code",
   "execution_count": 188,
   "metadata": {},
   "outputs": [],
   "source": [
    "#Loading in the dataset\n",
    "dataset = sk.datasets.load_iris()\n",
    "X = dataset.data\n",
    "y = dataset.target\n",
    "\n",
    "N = len(y)\n",
    "K = len(np.unique(y))\n",
    "\n",
    "#One-hot Encoding \n",
    "y = pd.get_dummies(y).values"
   ]
  },
  {
   "cell_type": "code",
   "execution_count": 189,
   "metadata": {},
   "outputs": [],
   "source": [
    "#Split data into train and test \n",
    "X_train, X_test, y_train, y_test = train_test_split(X,y,test_size=0.2)"
   ]
  },
  {
   "cell_type": "code",
   "execution_count": 190,
   "metadata": {},
   "outputs": [],
   "source": [
    "N_train = X_train.shape[0] #Training Set : Number of rows in X_train\n",
    "N_val = X_train.shape[0] #Test Set : Number of rows in X_train ??? Why X_train\n",
    "d = X_train.shape[1] #Number of columns in X_train "
   ]
  },
  {
   "cell_type": "code",
   "execution_count": 191,
   "metadata": {},
   "outputs": [],
   "source": [
    "#Normalize Data\n",
    "X_train = (X_train - np.mean(X_train,axis=0)) / np.std(X_train,axis=0)\n",
    "X_test = (X_test - np.mean(X_train,axis=0)) / np.std(X_train,axis=0) #??? Why X_train "
   ]
  },
  {
   "cell_type": "code",
   "execution_count": 192,
   "metadata": {},
   "outputs": [],
   "source": [
    "#Insert Leading 1's to create the augmented matrix \n",
    "X_train = np.insert(X_train,0,1,axis=1)\n",
    "X_test = np.insert(X_test,0,1,axis=1)"
   ]
  },
  {
   "cell_type": "code",
   "execution_count": 193,
   "metadata": {},
   "outputs": [
    {
     "name": "stdout",
     "output_type": "stream",
     "text": [
      "Loss : 0.3743215487275355\n",
      "Loss : 0.2915440682140621\n",
      "Loss : 0.2696585302466925\n",
      "Loss : 0.2528041939488977\n",
      "Loss : 0.23883836510999581\n",
      "Loss : 0.22701111214845213\n",
      "Loss : 0.21686873481380634\n",
      "Loss : 0.20807268728334544\n",
      "Loss : 0.20035956402673963\n",
      "Loss : 0.19352387036306212\n",
      "Loss : 0.18740639531942763\n",
      "Loss : 0.1818843518459552\n",
      "Loss : 0.17686285981411146\n",
      "Loss : 0.1722679696667858\n",
      "Loss : 0.16804126282809137\n",
      "Loss : 0.16413584309351856\n",
      "Loss : 0.16051343362839227\n",
      "Loss : 0.15714229641821653\n",
      "Loss : 0.15399574001309682\n",
      "Loss : 0.14828864448333465\n",
      "Loss : 0.14569158531237514\n",
      "Loss : 0.14324502363850872\n",
      "Loss : 0.1409359018519997\n",
      "Loss : 0.1387526669997511\n",
      "Loss : 0.13668504912174584\n",
      "Loss : 0.134723880822531\n",
      "Loss : 0.13286094857495595\n",
      "Loss : 0.13108886885945356\n",
      "Loss : 0.12940098404024578\n",
      "Loss : 0.12779127414042746\n",
      "Loss : 0.12625428157696658\n",
      "Loss : 0.1247850465693898\n",
      "Loss : 0.1233790514181922\n",
      "Loss : 0.12203217221139662\n",
      "Loss : 0.12074063679433439\n",
      "Loss : 0.11950098805200347\n",
      "Loss : 0.11831005172152781\n",
      "Loss : 0.11716490808578958\n",
      "Loss : 0.11500144584150895\n",
      "Loss : 0.11397834986290964\n",
      "Loss : 0.11299145484901765\n",
      "Loss : 0.11203879157376068\n",
      "Loss : 0.11111853195543248\n",
      "Loss : 0.11022897666126753\n",
      "Loss : 0.10936854399232004\n",
      "Loss : 0.1085357598970406\n",
      "Loss : 0.10772924898218819\n",
      "Loss : 0.10694772640694436\n",
      "Loss : 0.1061899905608061\n",
      "Loss : 0.10545491643842811\n",
      "Loss : 0.10474144963541375\n",
      "Loss : 0.104048600898372\n",
      "Loss : 0.1033754411706142\n",
      "Loss : 0.10272109708183454\n",
      "Loss : 0.10208474683617502\n",
      "Loss : 0.10146561645833692\n",
      "Loss : 0.10086297636199634\n",
      "Loss : 0.09970445202966491\n",
      "Loss : 0.09914730358341269\n",
      "Loss : 0.09860411193003175\n",
      "Loss : 0.09807432719880005\n",
      "Loss : 0.09755742853316378\n",
      "Loss : 0.09705292219634544\n",
      "Loss : 0.09656033982323915\n",
      "Loss : 0.09607923680561713\n",
      "Loss : 0.09560919079896595\n",
      "Loss : 0.09514980034042511\n",
      "Loss : 0.09470068356832408\n",
      "Loss : 0.09426147703473171\n",
      "Loss : 0.09383183460324697\n",
      "Loss : 0.09341142642499321\n",
      "Loss : 0.09299993798643111\n",
      "Loss : 0.09259706922319402\n",
      "Loss : 0.09220253369467622\n",
      "Loss : 0.09181605781457836\n",
      "Loss : 0.09143738013304183\n",
      "Loss : 0.09070243027082349\n",
      "Loss : 0.09034569005679312\n",
      "Loss : 0.0899958108409314\n",
      "Loss : 0.08965258263283868\n",
      "Loss : 0.08931580415412393\n",
      "Loss : 0.08898528238737714\n",
      "Loss : 0.08866083215292293\n",
      "Loss : 0.08834227571137919\n",
      "Loss : 0.08802944239020702\n",
      "Loss : 0.08772216823257896\n",
      "Loss : 0.08742029566702593\n",
      "Loss : 0.08712367319644324\n",
      "Loss : 0.08683215510514539\n",
      "Loss : 0.08654560118275884\n",
      "Loss : 0.08626387646383546\n",
      "Loss : 0.08598685098215181\n",
      "Loss : 0.08571439953873701\n",
      "Loss : 0.08544640148274192\n",
      "Loss : 0.08518274050432853\n"
     ]
    }
   ],
   "source": [
    "beta, L_vals = MultiLogReg_GradientDescent(X_train,y_train)"
   ]
  },
  {
   "cell_type": "code",
   "execution_count": 194,
   "metadata": {},
   "outputs": [
    {
     "data": {
      "text/plain": [
       "[<matplotlib.lines.Line2D at 0x7f85760a3310>]"
      ]
     },
     "execution_count": 194,
     "metadata": {},
     "output_type": "execute_result"
    },
    {
     "data": {
      "image/png": "[encoded data removed]",
      "text/plain": [
       "<Figure size 432x288 with 1 Axes>"
      ]
     },
     "metadata": {
      "needs_background": "light"
     },
     "output_type": "display_data"
    }
   ],
   "source": [
    "plt.plot(L_vals)"
   ]
  },
  {
   "cell_type": "code",
   "execution_count": 195,
   "metadata": {
    "scrolled": true
   },
   "outputs": [],
   "source": [
    "y_pred = make_predictions(beta,X_test)"
   ]
  },
  {
   "cell_type": "code",
   "execution_count": 205,
   "metadata": {},
   "outputs": [
    {
     "data": {
      "text/plain": [
       "array([2, 2, 2, 2, 1, 1, 2, 2, 2, 2])"
      ]
     },
     "execution_count": 205,
     "metadata": {},
     "output_type": "execute_result"
    }
   ],
   "source": [
    "y_pred[0:10]"
   ]
  },
  {
   "cell_type": "code",
   "execution_count": 207,
   "metadata": {},
   "outputs": [
    {
     "data": {
      "text/plain": [
       "array([[0, 1, 0],\n",
       "       [0, 0, 1],\n",
       "       [0, 0, 1],\n",
       "       [0, 1, 0],\n",
       "       [1, 0, 0],\n",
       "       [1, 0, 0],\n",
       "       [0, 0, 1],\n",
       "       [0, 1, 0],\n",
       "       [0, 1, 0],\n",
       "       [0, 1, 0]], dtype=uint8)"
      ]
     },
     "execution_count": 207,
     "metadata": {},
     "output_type": "execute_result"
    }
   ],
   "source": [
    "y_test[0:10]"
   ]
  }
 ],
 "metadata": {
  "kernelspec": {
   "display_name": "Python 3",
   "language": "python",
   "name": "python3"
  },
  "language_info": {
   "codemirror_mode": {
    "name": "ipython",
    "version": 3
   },
   "file_extension": ".py",
   "mimetype": "text/x-python",
   "name": "python",
   "nbconvert_exporter": "python",
   "pygments_lexer": "ipython3",
   "version": "3.7.6"
  }
 },
 "nbformat": 4,
 "nbformat_minor": 4
}
